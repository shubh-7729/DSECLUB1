{
 "cells": [
  {
   "cell_type": "code",
   "execution_count": 3,
   "metadata": {},
   "outputs": [
    {
     "name": "stdout",
     "output_type": "stream",
     "text": [
      "Enter number:12\n",
      "Enter number:12\n",
      "Enter number:13\n",
      "Enter number:14\n",
      "Enter number:15\n",
      "Enter number:16\n",
      "Enter number:17\n",
      "Enter number:18\n",
      "Enter number:21\n",
      "Enter number:22\n",
      "[12, 12, 14, 16, 18, 22]\n"
     ]
    }
   ],
   "source": [
    "l1=[]\n",
    "\n",
    "for i in range(0,10):\n",
    "    n=int(input(\"Enter number:\"))\n",
    "    if n%2==0:\n",
    "        l1.append(n)\n",
    "        \n",
    "print(l1)        \n"
   ]
  },
  {
   "cell_type": "code",
   "execution_count": null,
   "metadata": {},
   "outputs": [],
   "source": []
  }
 ],
 "metadata": {
  "kernelspec": {
   "display_name": "Python 3",
   "language": "python",
   "name": "python3"
  },
  "language_info": {
   "codemirror_mode": {
    "name": "ipython",
    "version": 3
   },
   "file_extension": ".py",
   "mimetype": "text/x-python",
   "name": "python",
   "nbconvert_exporter": "python",
   "pygments_lexer": "ipython3",
   "version": "3.8.3"
  }
 },
 "nbformat": 4,
 "nbformat_minor": 4
}
