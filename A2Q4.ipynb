{
 "cells": [
  {
   "cell_type": "code",
   "execution_count": 1,
   "metadata": {},
   "outputs": [
    {
     "name": "stdout",
     "output_type": "stream",
     "text": [
      "4\n",
      "UP 5\n",
      "DOWN 3\n",
      "LEFT 3\n",
      "RIGHT 2\n",
      "2"
     ]
    }
   ],
   "source": [
    "import math\n",
    "n=int(input())\n",
    "r_m=[]\n",
    "x=0\n",
    "y=0\n",
    "for r in range(n):\n",
    "    dir,m=input().split()\n",
    "    \n",
    "    if dir=='UP':\n",
    "        y=y+int(m)\n",
    "    if dir=='DOWN':\n",
    "        y=y-int(m) \n",
    "    if dir=='RIGHT':\n",
    "        x=x+int(m)    \n",
    "    if dir=='LEFT':\n",
    "        x=x-int(m)  \n",
    "print(round(math.sqrt(x*x+y*y)), end=\"\")    \n"
   ]
  },
  {
   "cell_type": "code",
   "execution_count": null,
   "metadata": {},
   "outputs": [],
   "source": []
  }
 ],
 "metadata": {
  "kernelspec": {
   "display_name": "Python 3",
   "language": "python",
   "name": "python3"
  },
  "language_info": {
   "codemirror_mode": {
    "name": "ipython",
    "version": 3
   },
   "file_extension": ".py",
   "mimetype": "text/x-python",
   "name": "python",
   "nbconvert_exporter": "python",
   "pygments_lexer": "ipython3",
   "version": "3.8.3"
  }
 },
 "nbformat": 4,
 "nbformat_minor": 4
}
